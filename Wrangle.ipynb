{
 "cells": [
  {
   "cell_type": "code",
   "execution_count": 1,
   "id": "ae5682c5-d17d-4fe2-9c17-21b5007cd319",
   "metadata": {},
   "outputs": [],
   "source": [
    "import numpy as np\n",
    "import pandas as pd\n",
    "import wrangle\n",
    "import os\n",
    "import datetime\n",
    "\n",
    "\n",
    "import warnings\n",
    "warnings.filterwarnings('ignore')"
   ]
  },
  {
   "cell_type": "markdown",
   "id": "f5b35419-d05e-4bb4-9289-c2ae51f13b92",
   "metadata": {},
   "source": [
    "# Wrangle Walkthrough"
   ]
  },
  {
   "cell_type": "code",
   "execution_count": 2,
   "id": "44c4c24d-b636-4c42-ae0e-c62ade1df7bd",
   "metadata": {},
   "outputs": [],
   "source": [
    "#Talk about project scope"
   ]
  },
  {
   "cell_type": "markdown",
   "id": "a2df43bf-0ab8-4161-a7f5-d528fa769b15",
   "metadata": {},
   "source": [
    "#### To-Do List\n",
    " - Create README on github that allows for project understanding\n",
    " - Find a dataset for used cars and there pricing \n",
    " - create a function to put it into a pandas a dataframe\n",
    " - wrangle and explore, create a model that allows us to predict car price.\n",
    " - deploy this model into a phone app that allows you to  number "
   ]
  },
  {
   "cell_type": "markdown",
   "id": "386d2a27-9922-4a26-bae0-4ff4fe63eb2b",
   "metadata": {},
   "source": [
    "## Wrangle \n",
    " - The data We're working with here can be found on Kaggle\n",
    " - https://www.kaggle.com/ananaymital/us-used-cars-dataset"
   ]
  },
  {
   "cell_type": "markdown",
   "id": "de43f506-4fdb-4b17-a7cf-2cde7b8b0906",
   "metadata": {},
   "source": [
    "#### Summarize Statistics"
   ]
  },
  {
   "cell_type": "code",
   "execution_count": 3,
   "id": "88701fea-af05-4d01-bfa5-68e763dfe8fa",
   "metadata": {},
   "outputs": [],
   "source": [
    "#dataset is huge , we'll grab 10,000 observations for the cleaning process\n",
    "if os.path.isfile('cars_sample.csv'):\n",
    "    cars_df =   pd.read_csv('cars_sample.csv')\n",
    "else:\n",
    "    all_cars_df = pd.read_csv('used_cars_data.csv')\n",
    "    cars_df = all_cars_df.sample(10000,random_state=145)\n",
    "    cars_df.to_csv('cars_sample.csv', index=False)"
   ]
  },
  {
   "cell_type": "code",
   "execution_count": 4,
   "id": "21c9963c-276a-4dea-8364-f8e931309263",
   "metadata": {},
   "outputs": [],
   "source": [
    "#wrangle.summerize_df(cars_df)"
   ]
  },
  {
   "cell_type": "markdown",
   "id": "d4412bd6-4d3c-4a5c-8e8d-e7d474b38730",
   "metadata": {},
   "source": [
    "#### Null Handling"
   ]
  },
  {
   "cell_type": "code",
   "execution_count": 5,
   "id": "3019fbf3-607b-43bd-b16e-aac5f8da71fe",
   "metadata": {},
   "outputs": [
    {
     "name": "stdout",
     "output_type": "stream",
     "text": [
      "<class 'pandas.core.series.Series'>\n"
     ]
    }
   ],
   "source": [
    "col = wrangle.get_nulls(cars_df)[0]"
   ]
  },
  {
   "cell_type": "code",
   "execution_count": 6,
   "id": "e2e041f9-1b9d-4e55-a3f0-6c20d871728b",
   "metadata": {},
   "outputs": [
    {
     "data": {
      "text/html": [
       "<div>\n",
       "<style scoped>\n",
       "    .dataframe tbody tr th:only-of-type {\n",
       "        vertical-align: middle;\n",
       "    }\n",
       "\n",
       "    .dataframe tbody tr th {\n",
       "        vertical-align: top;\n",
       "    }\n",
       "\n",
       "    .dataframe thead th {\n",
       "        text-align: right;\n",
       "    }\n",
       "</style>\n",
       "<table border=\"1\" class=\"dataframe\">\n",
       "  <thead>\n",
       "    <tr style=\"text-align: right;\">\n",
       "      <th></th>\n",
       "      <th>num_rows_missing</th>\n",
       "      <th>percent_rows_missing</th>\n",
       "    </tr>\n",
       "  </thead>\n",
       "  <tbody>\n",
       "    <tr>\n",
       "      <th>back_legroom</th>\n",
       "      <td>13237</td>\n",
       "      <td>5.2948</td>\n",
       "    </tr>\n",
       "    <tr>\n",
       "      <th>bed</th>\n",
       "      <td>248395</td>\n",
       "      <td>99.3580</td>\n",
       "    </tr>\n",
       "    <tr>\n",
       "      <th>bed_height</th>\n",
       "      <td>214314</td>\n",
       "      <td>85.7256</td>\n",
       "    </tr>\n",
       "    <tr>\n",
       "      <th>bed_length</th>\n",
       "      <td>214314</td>\n",
       "      <td>85.7256</td>\n",
       "    </tr>\n",
       "    <tr>\n",
       "      <th>body_type</th>\n",
       "      <td>1143</td>\n",
       "      <td>0.4572</td>\n",
       "    </tr>\n",
       "    <tr>\n",
       "      <th>cabin</th>\n",
       "      <td>244785</td>\n",
       "      <td>97.9140</td>\n",
       "    </tr>\n",
       "    <tr>\n",
       "      <th>city</th>\n",
       "      <td>0</td>\n",
       "      <td>0.0000</td>\n",
       "    </tr>\n",
       "    <tr>\n",
       "      <th>city_fuel_economy</th>\n",
       "      <td>40803</td>\n",
       "      <td>16.3212</td>\n",
       "    </tr>\n",
       "    <tr>\n",
       "      <th>combine_fuel_economy</th>\n",
       "      <td>250000</td>\n",
       "      <td>100.0000</td>\n",
       "    </tr>\n",
       "    <tr>\n",
       "      <th>daysonmarket</th>\n",
       "      <td>0</td>\n",
       "      <td>0.0000</td>\n",
       "    </tr>\n",
       "    <tr>\n",
       "      <th>dealer_zip</th>\n",
       "      <td>0</td>\n",
       "      <td>0.0000</td>\n",
       "    </tr>\n",
       "    <tr>\n",
       "      <th>description</th>\n",
       "      <td>6395</td>\n",
       "      <td>2.5580</td>\n",
       "    </tr>\n",
       "    <tr>\n",
       "      <th>engine_cylinders</th>\n",
       "      <td>8385</td>\n",
       "      <td>3.3540</td>\n",
       "    </tr>\n",
       "    <tr>\n",
       "      <th>engine_displacement</th>\n",
       "      <td>14347</td>\n",
       "      <td>5.7388</td>\n",
       "    </tr>\n",
       "    <tr>\n",
       "      <th>engine_type</th>\n",
       "      <td>8385</td>\n",
       "      <td>3.3540</td>\n",
       "    </tr>\n",
       "    <tr>\n",
       "      <th>exterior_color</th>\n",
       "      <td>2</td>\n",
       "      <td>0.0008</td>\n",
       "    </tr>\n",
       "    <tr>\n",
       "      <th>fleet</th>\n",
       "      <td>118803</td>\n",
       "      <td>47.5212</td>\n",
       "    </tr>\n",
       "    <tr>\n",
       "      <th>frame_damaged</th>\n",
       "      <td>118803</td>\n",
       "      <td>47.5212</td>\n",
       "    </tr>\n",
       "    <tr>\n",
       "      <th>franchise_dealer</th>\n",
       "      <td>0</td>\n",
       "      <td>0.0000</td>\n",
       "    </tr>\n",
       "    <tr>\n",
       "      <th>franchise_make</th>\n",
       "      <td>47975</td>\n",
       "      <td>19.1900</td>\n",
       "    </tr>\n",
       "    <tr>\n",
       "      <th>front_legroom</th>\n",
       "      <td>13237</td>\n",
       "      <td>5.2948</td>\n",
       "    </tr>\n",
       "    <tr>\n",
       "      <th>fuel_tank_volume</th>\n",
       "      <td>13237</td>\n",
       "      <td>5.2948</td>\n",
       "    </tr>\n",
       "    <tr>\n",
       "      <th>fuel_type</th>\n",
       "      <td>6893</td>\n",
       "      <td>2.7572</td>\n",
       "    </tr>\n",
       "    <tr>\n",
       "      <th>has_accidents</th>\n",
       "      <td>118803</td>\n",
       "      <td>47.5212</td>\n",
       "    </tr>\n",
       "    <tr>\n",
       "      <th>height</th>\n",
       "      <td>13237</td>\n",
       "      <td>5.2948</td>\n",
       "    </tr>\n",
       "    <tr>\n",
       "      <th>highway_fuel_economy</th>\n",
       "      <td>40803</td>\n",
       "      <td>16.3212</td>\n",
       "    </tr>\n",
       "    <tr>\n",
       "      <th>horsepower</th>\n",
       "      <td>14347</td>\n",
       "      <td>5.7388</td>\n",
       "    </tr>\n",
       "    <tr>\n",
       "      <th>interior_color</th>\n",
       "      <td>13</td>\n",
       "      <td>0.0052</td>\n",
       "    </tr>\n",
       "    <tr>\n",
       "      <th>isCab</th>\n",
       "      <td>118803</td>\n",
       "      <td>47.5212</td>\n",
       "    </tr>\n",
       "    <tr>\n",
       "      <th>is_certified</th>\n",
       "      <td>250000</td>\n",
       "      <td>100.0000</td>\n",
       "    </tr>\n",
       "    <tr>\n",
       "      <th>is_cpo</th>\n",
       "      <td>234818</td>\n",
       "      <td>93.9272</td>\n",
       "    </tr>\n",
       "    <tr>\n",
       "      <th>is_new</th>\n",
       "      <td>0</td>\n",
       "      <td>0.0000</td>\n",
       "    </tr>\n",
       "    <tr>\n",
       "      <th>is_oemcpo</th>\n",
       "      <td>238681</td>\n",
       "      <td>95.4724</td>\n",
       "    </tr>\n",
       "    <tr>\n",
       "      <th>latitude</th>\n",
       "      <td>0</td>\n",
       "      <td>0.0000</td>\n",
       "    </tr>\n",
       "    <tr>\n",
       "      <th>length</th>\n",
       "      <td>13237</td>\n",
       "      <td>5.2948</td>\n",
       "    </tr>\n",
       "    <tr>\n",
       "      <th>listed_date</th>\n",
       "      <td>0</td>\n",
       "      <td>0.0000</td>\n",
       "    </tr>\n",
       "    <tr>\n",
       "      <th>listing_color</th>\n",
       "      <td>0</td>\n",
       "      <td>0.0000</td>\n",
       "    </tr>\n",
       "    <tr>\n",
       "      <th>listing_id</th>\n",
       "      <td>0</td>\n",
       "      <td>0.0000</td>\n",
       "    </tr>\n",
       "    <tr>\n",
       "      <th>longitude</th>\n",
       "      <td>0</td>\n",
       "      <td>0.0000</td>\n",
       "    </tr>\n",
       "    <tr>\n",
       "      <th>main_picture_url</th>\n",
       "      <td>30881</td>\n",
       "      <td>12.3524</td>\n",
       "    </tr>\n",
       "    <tr>\n",
       "      <th>major_options</th>\n",
       "      <td>16376</td>\n",
       "      <td>6.5504</td>\n",
       "    </tr>\n",
       "    <tr>\n",
       "      <th>make_name</th>\n",
       "      <td>0</td>\n",
       "      <td>0.0000</td>\n",
       "    </tr>\n",
       "    <tr>\n",
       "      <th>maximum_seating</th>\n",
       "      <td>13237</td>\n",
       "      <td>5.2948</td>\n",
       "    </tr>\n",
       "    <tr>\n",
       "      <th>mileage</th>\n",
       "      <td>12059</td>\n",
       "      <td>4.8236</td>\n",
       "    </tr>\n",
       "    <tr>\n",
       "      <th>model_name</th>\n",
       "      <td>0</td>\n",
       "      <td>0.0000</td>\n",
       "    </tr>\n",
       "    <tr>\n",
       "      <th>owner_count</th>\n",
       "      <td>126204</td>\n",
       "      <td>50.4816</td>\n",
       "    </tr>\n",
       "    <tr>\n",
       "      <th>power</th>\n",
       "      <td>40175</td>\n",
       "      <td>16.0700</td>\n",
       "    </tr>\n",
       "    <tr>\n",
       "      <th>price</th>\n",
       "      <td>0</td>\n",
       "      <td>0.0000</td>\n",
       "    </tr>\n",
       "    <tr>\n",
       "      <th>salvage</th>\n",
       "      <td>118803</td>\n",
       "      <td>47.5212</td>\n",
       "    </tr>\n",
       "    <tr>\n",
       "      <th>savings_amount</th>\n",
       "      <td>0</td>\n",
       "      <td>0.0000</td>\n",
       "    </tr>\n",
       "    <tr>\n",
       "      <th>seller_rating</th>\n",
       "      <td>3458</td>\n",
       "      <td>1.3832</td>\n",
       "    </tr>\n",
       "    <tr>\n",
       "      <th>sp_id</th>\n",
       "      <td>12</td>\n",
       "      <td>0.0048</td>\n",
       "    </tr>\n",
       "    <tr>\n",
       "      <th>sp_name</th>\n",
       "      <td>0</td>\n",
       "      <td>0.0000</td>\n",
       "    </tr>\n",
       "    <tr>\n",
       "      <th>theft_title</th>\n",
       "      <td>118803</td>\n",
       "      <td>47.5212</td>\n",
       "    </tr>\n",
       "    <tr>\n",
       "      <th>torque</th>\n",
       "      <td>43302</td>\n",
       "      <td>17.3208</td>\n",
       "    </tr>\n",
       "    <tr>\n",
       "      <th>transmission</th>\n",
       "      <td>5155</td>\n",
       "      <td>2.0620</td>\n",
       "    </tr>\n",
       "    <tr>\n",
       "      <th>transmission_display</th>\n",
       "      <td>5155</td>\n",
       "      <td>2.0620</td>\n",
       "    </tr>\n",
       "    <tr>\n",
       "      <th>trimId</th>\n",
       "      <td>9591</td>\n",
       "      <td>3.8364</td>\n",
       "    </tr>\n",
       "    <tr>\n",
       "      <th>trim_name</th>\n",
       "      <td>9636</td>\n",
       "      <td>3.8544</td>\n",
       "    </tr>\n",
       "    <tr>\n",
       "      <th>vehicle_damage_category</th>\n",
       "      <td>250000</td>\n",
       "      <td>100.0000</td>\n",
       "    </tr>\n",
       "  </tbody>\n",
       "</table>\n",
       "</div>"
      ],
      "text/plain": [
       "                         num_rows_missing  percent_rows_missing\n",
       "back_legroom                        13237                5.2948\n",
       "bed                                248395               99.3580\n",
       "bed_height                         214314               85.7256\n",
       "bed_length                         214314               85.7256\n",
       "body_type                            1143                0.4572\n",
       "cabin                              244785               97.9140\n",
       "city                                    0                0.0000\n",
       "city_fuel_economy                   40803               16.3212\n",
       "combine_fuel_economy               250000              100.0000\n",
       "daysonmarket                            0                0.0000\n",
       "dealer_zip                              0                0.0000\n",
       "description                          6395                2.5580\n",
       "engine_cylinders                     8385                3.3540\n",
       "engine_displacement                 14347                5.7388\n",
       "engine_type                          8385                3.3540\n",
       "exterior_color                          2                0.0008\n",
       "fleet                              118803               47.5212\n",
       "frame_damaged                      118803               47.5212\n",
       "franchise_dealer                        0                0.0000\n",
       "franchise_make                      47975               19.1900\n",
       "front_legroom                       13237                5.2948\n",
       "fuel_tank_volume                    13237                5.2948\n",
       "fuel_type                            6893                2.7572\n",
       "has_accidents                      118803               47.5212\n",
       "height                              13237                5.2948\n",
       "highway_fuel_economy                40803               16.3212\n",
       "horsepower                          14347                5.7388\n",
       "interior_color                         13                0.0052\n",
       "isCab                              118803               47.5212\n",
       "is_certified                       250000              100.0000\n",
       "is_cpo                             234818               93.9272\n",
       "is_new                                  0                0.0000\n",
       "is_oemcpo                          238681               95.4724\n",
       "latitude                                0                0.0000\n",
       "length                              13237                5.2948\n",
       "listed_date                             0                0.0000\n",
       "listing_color                           0                0.0000\n",
       "listing_id                              0                0.0000\n",
       "longitude                               0                0.0000\n",
       "main_picture_url                    30881               12.3524\n",
       "major_options                       16376                6.5504\n",
       "make_name                               0                0.0000\n",
       "maximum_seating                     13237                5.2948\n",
       "mileage                             12059                4.8236\n",
       "model_name                              0                0.0000\n",
       "owner_count                        126204               50.4816\n",
       "power                               40175               16.0700\n",
       "price                                   0                0.0000\n",
       "salvage                            118803               47.5212\n",
       "savings_amount                          0                0.0000\n",
       "seller_rating                        3458                1.3832\n",
       "sp_id                                  12                0.0048\n",
       "sp_name                                 0                0.0000\n",
       "theft_title                        118803               47.5212\n",
       "torque                              43302               17.3208\n",
       "transmission                         5155                2.0620\n",
       "transmission_display                 5155                2.0620\n",
       "trimId                               9591                3.8364\n",
       "trim_name                            9636                3.8544\n",
       "vehicle_damage_category            250000              100.0000"
      ]
     },
     "execution_count": 6,
     "metadata": {},
     "output_type": "execute_result"
    }
   ],
   "source": [
    "col[1:61]"
   ]
  },
  {
   "cell_type": "code",
   "execution_count": 7,
   "id": "92b12292-41f7-4985-83b5-824b1e81a009",
   "metadata": {},
   "outputs": [
    {
     "data": {
      "text/html": [
       "<div>\n",
       "<style scoped>\n",
       "    .dataframe tbody tr th:only-of-type {\n",
       "        vertical-align: middle;\n",
       "    }\n",
       "\n",
       "    .dataframe tbody tr th {\n",
       "        vertical-align: top;\n",
       "    }\n",
       "\n",
       "    .dataframe thead th {\n",
       "        text-align: right;\n",
       "    }\n",
       "</style>\n",
       "<table border=\"1\" class=\"dataframe\">\n",
       "  <thead>\n",
       "    <tr style=\"text-align: right;\">\n",
       "      <th></th>\n",
       "      <th>num_rows_missing</th>\n",
       "      <th>percent_rows_missing</th>\n",
       "    </tr>\n",
       "  </thead>\n",
       "  <tbody>\n",
       "    <tr>\n",
       "      <th>wheel_system</th>\n",
       "      <td>12240</td>\n",
       "      <td>4.8960</td>\n",
       "    </tr>\n",
       "    <tr>\n",
       "      <th>wheel_system_display</th>\n",
       "      <td>12240</td>\n",
       "      <td>4.8960</td>\n",
       "    </tr>\n",
       "    <tr>\n",
       "      <th>wheelbase</th>\n",
       "      <td>13237</td>\n",
       "      <td>5.2948</td>\n",
       "    </tr>\n",
       "    <tr>\n",
       "      <th>width</th>\n",
       "      <td>13237</td>\n",
       "      <td>5.2948</td>\n",
       "    </tr>\n",
       "    <tr>\n",
       "      <th>year</th>\n",
       "      <td>0</td>\n",
       "      <td>0.0000</td>\n",
       "    </tr>\n",
       "  </tbody>\n",
       "</table>\n",
       "</div>"
      ],
      "text/plain": [
       "                      num_rows_missing  percent_rows_missing\n",
       "wheel_system                     12240                4.8960\n",
       "wheel_system_display             12240                4.8960\n",
       "wheelbase                        13237                5.2948\n",
       "width                            13237                5.2948\n",
       "year                                 0                0.0000"
      ]
     },
     "execution_count": 7,
     "metadata": {},
     "output_type": "execute_result"
    }
   ],
   "source": [
    "col[61:]"
   ]
  },
  {
   "cell_type": "code",
   "execution_count": 8,
   "id": "7b614e6d-b94e-4698-9129-91c840124dd2",
   "metadata": {},
   "outputs": [
    {
     "data": {
      "text/plain": [
       "(250000, 66)"
      ]
     },
     "execution_count": 8,
     "metadata": {},
     "output_type": "execute_result"
    }
   ],
   "source": [
    "cars_df.shape"
   ]
  },
  {
   "cell_type": "markdown",
   "id": "6516abe6-87ef-4258-885e-2e4d8bb0fc07",
   "metadata": {},
   "source": [
    "#### High Null Columns takeaways (Over 90%)"
   ]
  },
  {
   "cell_type": "markdown",
   "id": "2341aea6-0dcd-4bf7-89c0-a8335c3f30e5",
   "metadata": {},
   "source": [
    "- Bed is only used for trucks, making the column 99% null , remove bed info\n",
    "- Cabin missing 97%, remove cabin\n",
    "- Combine Fuel Economy is 100% null, remove\n",
    "- drop is_certified\n",
    "- drop is_cpo"
   ]
  },
  {
   "cell_type": "code",
   "execution_count": 9,
   "id": "7fbb4694-5a20-4814-9470-ca840fa5944f",
   "metadata": {},
   "outputs": [
    {
     "name": "stdout",
     "output_type": "stream",
     "text": [
      "<class 'pandas.core.series.Series'>\n"
     ]
    }
   ],
   "source": [
    "cars_df = wrangle.drop_null_columns(cars_df , 90)"
   ]
  },
  {
   "cell_type": "code",
   "execution_count": 10,
   "id": "7812cad5-1123-41cc-a97b-2355f895cc71",
   "metadata": {},
   "outputs": [
    {
     "data": {
      "text/plain": [
       "(250000, 59)"
      ]
     },
     "execution_count": 10,
     "metadata": {},
     "output_type": "execute_result"
    }
   ],
   "source": [
    "cars_df.shape"
   ]
  },
  {
   "cell_type": "markdown",
   "id": "051a6137-a8ea-4aef-9f0c-331dc20b9987",
   "metadata": {},
   "source": [
    "#### High Null rows takeaways (Over 40%)\n",
    "- removing any row that has more than 40% of its columns missing"
   ]
  },
  {
   "cell_type": "code",
   "execution_count": 11,
   "id": "b9a7bf5d-7827-4a01-aa6a-fd6103fadfd0",
   "metadata": {},
   "outputs": [
    {
     "name": "stdout",
     "output_type": "stream",
     "text": [
      "<class 'pandas.core.series.Series'>\n"
     ]
    }
   ],
   "source": [
    "row = wrangle.get_nulls(cars_df)[1]"
   ]
  },
  {
   "cell_type": "code",
   "execution_count": 12,
   "id": "9f3bb2f2-aa79-4e6e-aa1d-5e24528bf3f8",
   "metadata": {},
   "outputs": [
    {
     "data": {
      "text/html": [
       "<div>\n",
       "<style scoped>\n",
       "    .dataframe tbody tr th:only-of-type {\n",
       "        vertical-align: middle;\n",
       "    }\n",
       "\n",
       "    .dataframe tbody tr th {\n",
       "        vertical-align: top;\n",
       "    }\n",
       "\n",
       "    .dataframe thead th {\n",
       "        text-align: right;\n",
       "    }\n",
       "</style>\n",
       "<table border=\"1\" class=\"dataframe\">\n",
       "  <thead>\n",
       "    <tr style=\"text-align: right;\">\n",
       "      <th></th>\n",
       "      <th>num_cols_missing</th>\n",
       "      <th>percent_cols_missing</th>\n",
       "      <th>num_rows</th>\n",
       "    </tr>\n",
       "  </thead>\n",
       "  <tbody>\n",
       "    <tr>\n",
       "      <th>0</th>\n",
       "      <td>0</td>\n",
       "      <td>0.0</td>\n",
       "      <td>5602</td>\n",
       "    </tr>\n",
       "    <tr>\n",
       "      <th>1</th>\n",
       "      <td>1</td>\n",
       "      <td>1.694915254237288</td>\n",
       "      <td>4183</td>\n",
       "    </tr>\n",
       "    <tr>\n",
       "      <th>2</th>\n",
       "      <td>2</td>\n",
       "      <td>3.389830508474576</td>\n",
       "      <td>48929</td>\n",
       "    </tr>\n",
       "    <tr>\n",
       "      <th>3</th>\n",
       "      <td>3</td>\n",
       "      <td>5.084745762711865</td>\n",
       "      <td>38310</td>\n",
       "    </tr>\n",
       "    <tr>\n",
       "      <th>4</th>\n",
       "      <td>4</td>\n",
       "      <td>6.779661016949152</td>\n",
       "      <td>15636</td>\n",
       "    </tr>\n",
       "    <tr>\n",
       "      <th>5</th>\n",
       "      <td>5</td>\n",
       "      <td>8.47457627118644</td>\n",
       "      <td>8134</td>\n",
       "    </tr>\n",
       "    <tr>\n",
       "      <th>6</th>\n",
       "      <td>6</td>\n",
       "      <td>10.16949152542373</td>\n",
       "      <td>2573</td>\n",
       "    </tr>\n",
       "    <tr>\n",
       "      <th>7</th>\n",
       "      <td>7</td>\n",
       "      <td>11.864406779661017</td>\n",
       "      <td>10980</td>\n",
       "    </tr>\n",
       "    <tr>\n",
       "      <th>8</th>\n",
       "      <td>8</td>\n",
       "      <td>13.559322033898304</td>\n",
       "      <td>3512</td>\n",
       "    </tr>\n",
       "    <tr>\n",
       "      <th>9</th>\n",
       "      <td>9</td>\n",
       "      <td>15.254237288135593</td>\n",
       "      <td>52003</td>\n",
       "    </tr>\n",
       "    <tr>\n",
       "      <th>10</th>\n",
       "      <td>10</td>\n",
       "      <td>16.94915254237288</td>\n",
       "      <td>15854</td>\n",
       "    </tr>\n",
       "    <tr>\n",
       "      <th>11</th>\n",
       "      <td>11</td>\n",
       "      <td>18.64406779661017</td>\n",
       "      <td>19037</td>\n",
       "    </tr>\n",
       "    <tr>\n",
       "      <th>12</th>\n",
       "      <td>12</td>\n",
       "      <td>20.33898305084746</td>\n",
       "      <td>6794</td>\n",
       "    </tr>\n",
       "    <tr>\n",
       "      <th>13</th>\n",
       "      <td>13</td>\n",
       "      <td>22.033898305084744</td>\n",
       "      <td>2715</td>\n",
       "    </tr>\n",
       "    <tr>\n",
       "      <th>14</th>\n",
       "      <td>14</td>\n",
       "      <td>23.728813559322035</td>\n",
       "      <td>1215</td>\n",
       "    </tr>\n",
       "    <tr>\n",
       "      <th>15</th>\n",
       "      <td>15</td>\n",
       "      <td>25.423728813559322</td>\n",
       "      <td>1104</td>\n",
       "    </tr>\n",
       "    <tr>\n",
       "      <th>16</th>\n",
       "      <td>16</td>\n",
       "      <td>27.11864406779661</td>\n",
       "      <td>545</td>\n",
       "    </tr>\n",
       "    <tr>\n",
       "      <th>17</th>\n",
       "      <td>17</td>\n",
       "      <td>28.8135593220339</td>\n",
       "      <td>580</td>\n",
       "    </tr>\n",
       "    <tr>\n",
       "      <th>18</th>\n",
       "      <td>18</td>\n",
       "      <td>30.508474576271187</td>\n",
       "      <td>290</td>\n",
       "    </tr>\n",
       "    <tr>\n",
       "      <th>19</th>\n",
       "      <td>19</td>\n",
       "      <td>32.20338983050847</td>\n",
       "      <td>126</td>\n",
       "    </tr>\n",
       "    <tr>\n",
       "      <th>20</th>\n",
       "      <td>20</td>\n",
       "      <td>33.89830508474576</td>\n",
       "      <td>1254</td>\n",
       "    </tr>\n",
       "    <tr>\n",
       "      <th>21</th>\n",
       "      <td>21</td>\n",
       "      <td>35.59322033898305</td>\n",
       "      <td>1384</td>\n",
       "    </tr>\n",
       "    <tr>\n",
       "      <th>22</th>\n",
       "      <td>22</td>\n",
       "      <td>37.28813559322034</td>\n",
       "      <td>732</td>\n",
       "    </tr>\n",
       "    <tr>\n",
       "      <th>23</th>\n",
       "      <td>23</td>\n",
       "      <td>38.983050847457626</td>\n",
       "      <td>740</td>\n",
       "    </tr>\n",
       "    <tr>\n",
       "      <th>24</th>\n",
       "      <td>24</td>\n",
       "      <td>40.67796610169492</td>\n",
       "      <td>312</td>\n",
       "    </tr>\n",
       "    <tr>\n",
       "      <th>25</th>\n",
       "      <td>25</td>\n",
       "      <td>42.3728813559322</td>\n",
       "      <td>378</td>\n",
       "    </tr>\n",
       "    <tr>\n",
       "      <th>26</th>\n",
       "      <td>26</td>\n",
       "      <td>44.06779661016949</td>\n",
       "      <td>211</td>\n",
       "    </tr>\n",
       "    <tr>\n",
       "      <th>27</th>\n",
       "      <td>27</td>\n",
       "      <td>45.76271186440678</td>\n",
       "      <td>1883</td>\n",
       "    </tr>\n",
       "    <tr>\n",
       "      <th>28</th>\n",
       "      <td>28</td>\n",
       "      <td>47.45762711864407</td>\n",
       "      <td>1454</td>\n",
       "    </tr>\n",
       "    <tr>\n",
       "      <th>29</th>\n",
       "      <td>29</td>\n",
       "      <td>49.152542372881356</td>\n",
       "      <td>768</td>\n",
       "    </tr>\n",
       "    <tr>\n",
       "      <th>30</th>\n",
       "      <td>30</td>\n",
       "      <td>50.847457627118644</td>\n",
       "      <td>614</td>\n",
       "    </tr>\n",
       "    <tr>\n",
       "      <th>31</th>\n",
       "      <td>31</td>\n",
       "      <td>52.54237288135594</td>\n",
       "      <td>1085</td>\n",
       "    </tr>\n",
       "    <tr>\n",
       "      <th>32</th>\n",
       "      <td>32</td>\n",
       "      <td>54.23728813559322</td>\n",
       "      <td>669</td>\n",
       "    </tr>\n",
       "    <tr>\n",
       "      <th>33</th>\n",
       "      <td>33</td>\n",
       "      <td>55.932203389830505</td>\n",
       "      <td>254</td>\n",
       "    </tr>\n",
       "    <tr>\n",
       "      <th>34</th>\n",
       "      <td>34</td>\n",
       "      <td>57.6271186440678</td>\n",
       "      <td>99</td>\n",
       "    </tr>\n",
       "    <tr>\n",
       "      <th>35</th>\n",
       "      <td>35</td>\n",
       "      <td>59.32203389830508</td>\n",
       "      <td>27</td>\n",
       "    </tr>\n",
       "    <tr>\n",
       "      <th>36</th>\n",
       "      <td>36</td>\n",
       "      <td>61.016949152542374</td>\n",
       "      <td>14</td>\n",
       "    </tr>\n",
       "  </tbody>\n",
       "</table>\n",
       "</div>"
      ],
      "text/plain": [
       "   num_cols_missing percent_cols_missing  num_rows\n",
       "0                 0                  0.0      5602\n",
       "1                 1    1.694915254237288      4183\n",
       "2                 2    3.389830508474576     48929\n",
       "3                 3    5.084745762711865     38310\n",
       "4                 4    6.779661016949152     15636\n",
       "5                 5     8.47457627118644      8134\n",
       "6                 6    10.16949152542373      2573\n",
       "7                 7   11.864406779661017     10980\n",
       "8                 8   13.559322033898304      3512\n",
       "9                 9   15.254237288135593     52003\n",
       "10               10    16.94915254237288     15854\n",
       "11               11    18.64406779661017     19037\n",
       "12               12    20.33898305084746      6794\n",
       "13               13   22.033898305084744      2715\n",
       "14               14   23.728813559322035      1215\n",
       "15               15   25.423728813559322      1104\n",
       "16               16    27.11864406779661       545\n",
       "17               17     28.8135593220339       580\n",
       "18               18   30.508474576271187       290\n",
       "19               19    32.20338983050847       126\n",
       "20               20    33.89830508474576      1254\n",
       "21               21    35.59322033898305      1384\n",
       "22               22    37.28813559322034       732\n",
       "23               23   38.983050847457626       740\n",
       "24               24    40.67796610169492       312\n",
       "25               25     42.3728813559322       378\n",
       "26               26    44.06779661016949       211\n",
       "27               27    45.76271186440678      1883\n",
       "28               28    47.45762711864407      1454\n",
       "29               29   49.152542372881356       768\n",
       "30               30   50.847457627118644       614\n",
       "31               31    52.54237288135594      1085\n",
       "32               32    54.23728813559322       669\n",
       "33               33   55.932203389830505       254\n",
       "34               34     57.6271186440678        99\n",
       "35               35    59.32203389830508        27\n",
       "36               36   61.016949152542374        14"
      ]
     },
     "execution_count": 12,
     "metadata": {},
     "output_type": "execute_result"
    }
   ],
   "source": [
    "row"
   ]
  },
  {
   "cell_type": "code",
   "execution_count": 13,
   "id": "61fad5e2-feb9-456d-a576-381e9af3ddfd",
   "metadata": {},
   "outputs": [],
   "source": [
    "cars_df = wrangle.drop_null_rows(cars_df, 40)"
   ]
  },
  {
   "cell_type": "code",
   "execution_count": 14,
   "id": "5c55b87b-8a7b-4230-88cc-1c8182616a8e",
   "metadata": {},
   "outputs": [
    {
     "data": {
      "text/plain": [
       "(242232, 59)"
      ]
     },
     "execution_count": 14,
     "metadata": {},
     "output_type": "execute_result"
    }
   ],
   "source": [
    "cars_df.shape"
   ]
  },
  {
   "cell_type": "code",
   "execution_count": 15,
   "id": "3769df9a-de2b-4e4d-9f8b-164ac7b55b2a",
   "metadata": {},
   "outputs": [
    {
     "data": {
      "text/plain": [
       "vin                          0\n",
       "back_legroom              5469\n",
       "bed_height              206546\n",
       "bed_length              206546\n",
       "body_type                   97\n",
       "city                         0\n",
       "city_fuel_economy        33136\n",
       "daysonmarket                 0\n",
       "dealer_zip                   0\n",
       "description               5865\n",
       "engine_cylinders          4236\n",
       "engine_displacement       6579\n",
       "engine_type               4236\n",
       "exterior_color               2\n",
       "fleet                   111695\n",
       "frame_damaged           111695\n",
       "franchise_dealer             0\n",
       "franchise_make           47456\n",
       "front_legroom             5469\n",
       "fuel_tank_volume          5469\n",
       "fuel_type                 3205\n",
       "has_accidents           111695\n",
       "height                    5469\n",
       "highway_fuel_economy     33136\n",
       "horsepower                6579\n",
       "interior_color              13\n",
       "isCab                   111695\n",
       "is_new                       0\n",
       "latitude                     0\n",
       "length                    5469\n",
       "listed_date                  0\n",
       "listing_color                0\n",
       "listing_id                   0\n",
       "longitude                    0\n",
       "main_picture_url         28875\n",
       "major_options            13531\n",
       "make_name                    0\n",
       "maximum_seating           5469\n",
       "mileage                  11261\n",
       "model_name                   0\n",
       "owner_count             118687\n",
       "power                    32407\n",
       "price                        0\n",
       "salvage                 111695\n",
       "savings_amount               0\n",
       "seller_rating             3336\n",
       "sp_id                       12\n",
       "sp_name                      0\n",
       "theft_title             111695\n",
       "torque                   35534\n",
       "transmission              4540\n",
       "transmission_display      4540\n",
       "trimId                    3162\n",
       "trim_name                 3207\n",
       "wheel_system              4881\n",
       "wheel_system_display      4881\n",
       "wheelbase                 5469\n",
       "width                     5469\n",
       "year                         0\n",
       "dtype: int64"
      ]
     },
     "execution_count": 15,
     "metadata": {},
     "output_type": "execute_result"
    }
   ],
   "source": [
    "cars_df.isna().sum()"
   ]
  },
  {
   "cell_type": "markdown",
   "id": "9db664e5-af3b-4a1d-b3d6-ee713476d419",
   "metadata": {},
   "source": [
    "#### Investigating remaining nulls (To drop, fill with a value, or impute an avg)"
   ]
  },
  {
   "cell_type": "code",
   "execution_count": 16,
   "id": "1177bd19-f9b1-48b3-8934-b2d8379cb418",
   "metadata": {},
   "outputs": [],
   "source": [
    "#Bed\n",
    "#Bed stats only used for pickuptruck, remove\n",
    "cars_df = cars_df.drop(columns=['bed_height', 'bed_length'])"
   ]
  },
  {
   "cell_type": "code",
   "execution_count": 17,
   "id": "125e462c-1e5a-4ea8-9c0e-417d6735311d",
   "metadata": {},
   "outputs": [
    {
     "data": {
      "text/plain": [
       "(242232, 57)"
      ]
     },
     "execution_count": 17,
     "metadata": {},
     "output_type": "execute_result"
    }
   ],
   "source": [
    "cars_df.shape"
   ]
  },
  {
   "cell_type": "code",
   "execution_count": 18,
   "id": "c9d8b4cc-aeeb-41dc-8710-b06137266248",
   "metadata": {},
   "outputs": [],
   "source": [
    "#Body type is important and hard to impute, drop the missing rows\n",
    "cars_df = cars_df.dropna(axis=0, subset=['body_type'])"
   ]
  },
  {
   "cell_type": "code",
   "execution_count": 19,
   "id": "ccf039ea-958f-48e4-9677-f6b6fe4528d1",
   "metadata": {},
   "outputs": [
    {
     "data": {
      "text/plain": [
       "38.3 in    9549\n",
       "43.6 in    8458\n",
       "37.4 in    7334\n",
       "--         6815\n",
       "35.7 in    6472\n",
       "           ... \n",
       "49 in         1\n",
       "25.8 in       1\n",
       "26.5 in       1\n",
       "26.6 in       1\n",
       "24.9 in       1\n",
       "Name: back_legroom, Length: 198, dtype: int64"
      ]
     },
     "execution_count": 19,
     "metadata": {},
     "output_type": "execute_result"
    }
   ],
   "source": [
    "#back_legroom , lets take a closer look into the null values\n",
    "cars_df['back_legroom'].value_counts()\n"
   ]
  },
  {
   "cell_type": "code",
   "execution_count": 20,
   "id": "9a8b2238-7615-4308-9478-2c048f1e77ef",
   "metadata": {},
   "outputs": [],
   "source": [
    "#leg_room\n",
    "split = cars_df['back_legroom'].str.split(' ', n =1, expand = True)\n",
    "split1 = cars_df['front_legroom'].str.split(' ', n =1, expand = True)"
   ]
  },
  {
   "cell_type": "code",
   "execution_count": 21,
   "id": "7078ee5b-dad6-4f59-a4b3-1ae1da05420b",
   "metadata": {},
   "outputs": [],
   "source": [
    "cars_df['back_legroom'] = split[0]\n",
    "cars_df['front_legroom'] = split1[0]"
   ]
  },
  {
   "cell_type": "code",
   "execution_count": 22,
   "id": "bd0529ff-e35b-428a-928e-208105c2059a",
   "metadata": {},
   "outputs": [],
   "source": [
    "cars_df['back_legroom'] = pd.to_numeric(cars_df['back_legroom'], errors='coerce')\n",
    "cars_df['front_legroom'] = pd.to_numeric(cars_df['front_legroom'], errors='coerce')"
   ]
  },
  {
   "cell_type": "code",
   "execution_count": 23,
   "id": "2bd70ce5-4bfc-43b8-949f-fc70b3147a37",
   "metadata": {},
   "outputs": [
    {
     "data": {
      "text/plain": [
       "body_type\n",
       "Convertible        30.735284\n",
       "Coupe              31.719139\n",
       "Hatchback          34.859640\n",
       "Minivan            38.546644\n",
       "Pickup Truck       40.077898\n",
       "SUV / Crossover    38.329485\n",
       "Sedan              37.041322\n",
       "Van                35.744665\n",
       "Wagon              37.155547\n",
       "Name: back_legroom, dtype: float64"
      ]
     },
     "execution_count": 23,
     "metadata": {},
     "output_type": "execute_result"
    }
   ],
   "source": [
    "cars_df.groupby(by='body_type').back_legroom.mean()"
   ]
  },
  {
   "cell_type": "code",
   "execution_count": 24,
   "id": "80740ccc-dabb-4754-a338-76a5c33e7240",
   "metadata": {},
   "outputs": [],
   "source": [
    "#fill nulls with avg legroom for each body type\n",
    "cars_df['back_legroom'] = cars_df.groupby('body_type').back_legroom.transform(lambda x : x.fillna(round(x.mean(),1)))\n",
    "cars_df['front_legroom'] = cars_df.groupby('body_type').front_legroom.transform(lambda x : x.fillna(round(x.mean(),1)))"
   ]
  },
  {
   "cell_type": "code",
   "execution_count": 25,
   "id": "a3879e42-61fc-4540-b6d2-3cd48367f3c4",
   "metadata": {},
   "outputs": [],
   "source": [
    "#city_fuel_economy can be filled with the avg for year, make and model\n",
    "cars_df['city_fuel_economy'] = cars_df.groupby(['year','make_name','model_name']).city_fuel_economy.transform(lambda x : x.fillna(round(x.mean(),1)))\n",
    "cars_df = cars_df.dropna(axis=0, subset=['city_fuel_economy'])\n",
    "#highway_fuel_economy as well\n",
    "cars_df['highway_fuel_economy'] = cars_df.groupby(['year','make_name','model_name']).highway_fuel_economy.transform(lambda x : x.fillna(round(x.mean(),1)))\n",
    "cars_df = cars_df.dropna(axis=0, subset=['highway_fuel_economy'])"
   ]
  },
  {
   "cell_type": "code",
   "execution_count": 26,
   "id": "a18b292a-e0f9-41af-98dd-b4e8e46581a5",
   "metadata": {},
   "outputs": [],
   "source": [
    "#drop description, cant be used in regression model\n",
    "cars_df = cars_df.drop(columns='description')"
   ]
  },
  {
   "cell_type": "code",
   "execution_count": 27,
   "id": "7e2162ef-71a1-41e5-bae4-f8c9c03d98a7",
   "metadata": {},
   "outputs": [],
   "source": [
    "#engine specifics \n",
    "#use the year, make and model to figure out what engine might have been in that particular vehicle"
   ]
  },
  {
   "cell_type": "code",
   "execution_count": 28,
   "id": "0f606386-4d7f-4438-9754-102b7606a8d6",
   "metadata": {},
   "outputs": [],
   "source": [
    "#fill engine specifics with most popular option for that year , make and model\n",
    "cars_df['engine_cylinders'] = cars_df.groupby(['year','make_name','model_name']).engine_cylinders.\\\n",
    "transform(lambda x : x.fillna(x.mode()))\n",
    "cars_df = cars_df.dropna(axis=0, subset=['engine_cylinders'])\n",
    "cars_df['engine_displacement'] = cars_df.groupby(['year','make_name','model_name']).engine_displacement.\\\n",
    "transform(lambda x : x.fillna(x.mode()))\n",
    "cars_df = cars_df.dropna(axis=0, subset=['engine_displacement'])\n",
    "cars_df['engine_type'] = cars_df.groupby(['year','make_name','model_name']).engine_type.\\\n",
    "transform(lambda x : x.fillna(x.mode()))\n",
    "cars_df = cars_df.dropna(axis=0, subset=['engine_type'])"
   ]
  },
  {
   "cell_type": "code",
   "execution_count": 29,
   "id": "20b1728d-3e9d-4793-847c-9fc7efef42a5",
   "metadata": {},
   "outputs": [],
   "source": [
    "#fleet can be filled with \"unknown\" as being a fleet car might have an effect on its pricing\n",
    "#but we dont want to encode to binary, as it may skew our non fleet cars\n",
    "cars_df.fleet = cars_df.fleet.fillna('unknown')"
   ]
  },
  {
   "cell_type": "code",
   "execution_count": 30,
   "id": "5396f817-1603-4212-9764-a8bb0c6af2cb",
   "metadata": {},
   "outputs": [],
   "source": [
    "#Assume seller verified no frame damage, impute nulls to false\n",
    "cars_df.frame_damaged = cars_df.frame_damaged.fillna(False)"
   ]
  },
  {
   "cell_type": "code",
   "execution_count": 31,
   "id": "ed48bcb0-2167-4a1b-94a9-91ecd40bf437",
   "metadata": {},
   "outputs": [],
   "source": [
    "#franchise make is not important, drop column\n",
    "cars_df = cars_df.drop(columns='franchise_make')"
   ]
  },
  {
   "cell_type": "code",
   "execution_count": 32,
   "id": "a03ecb4c-71c3-4f3f-b32e-fee50be800d1",
   "metadata": {},
   "outputs": [
    {
     "name": "stdout",
     "output_type": "stream",
     "text": [
      "<class 'pandas.core.frame.DataFrame'>\n",
      "Int64Index: 224878 entries, 1 to 249999\n",
      "Data columns (total 55 columns):\n",
      " #   Column                Non-Null Count   Dtype  \n",
      "---  ------                --------------   -----  \n",
      " 0   vin                   224878 non-null  object \n",
      " 1   back_legroom          224878 non-null  float64\n",
      " 2   body_type             224878 non-null  object \n",
      " 3   city                  224878 non-null  object \n",
      " 4   city_fuel_economy     224878 non-null  float64\n",
      " 5   daysonmarket          224878 non-null  int64  \n",
      " 6   dealer_zip            224878 non-null  object \n",
      " 7   engine_cylinders      224878 non-null  object \n",
      " 8   engine_displacement   224878 non-null  float64\n",
      " 9   engine_type           224878 non-null  object \n",
      " 10  exterior_color        224876 non-null  object \n",
      " 11  fleet                 224878 non-null  object \n",
      " 12  frame_damaged         224878 non-null  bool   \n",
      " 13  franchise_dealer      224878 non-null  bool   \n",
      " 14  front_legroom         224878 non-null  float64\n",
      " 15  fuel_tank_volume      224633 non-null  object \n",
      " 16  fuel_type             224878 non-null  object \n",
      " 17  has_accidents         120541 non-null  object \n",
      " 18  height                224633 non-null  object \n",
      " 19  highway_fuel_economy  224878 non-null  float64\n",
      " 20  horsepower            224878 non-null  float64\n",
      " 21  interior_color        224867 non-null  object \n",
      " 22  isCab                 120541 non-null  object \n",
      " 23  is_new                224878 non-null  bool   \n",
      " 24  latitude              224878 non-null  float64\n",
      " 25  length                224633 non-null  object \n",
      " 26  listed_date           224878 non-null  object \n",
      " 27  listing_color         224878 non-null  object \n",
      " 28  listing_id            224878 non-null  int64  \n",
      " 29  longitude             224878 non-null  float64\n",
      " 30  main_picture_url      198524 non-null  object \n",
      " 31  major_options         213413 non-null  object \n",
      " 32  make_name             224878 non-null  object \n",
      " 33  maximum_seating       224633 non-null  object \n",
      " 34  mileage               214451 non-null  float64\n",
      " 35  model_name            224878 non-null  object \n",
      " 36  owner_count           114332 non-null  float64\n",
      " 37  power                 200509 non-null  object \n",
      " 38  price                 224878 non-null  float64\n",
      " 39  salvage               120541 non-null  object \n",
      " 40  savings_amount        224878 non-null  int64  \n",
      " 41  seller_rating         221845 non-null  float64\n",
      " 42  sp_id                 224866 non-null  float64\n",
      " 43  sp_name               224878 non-null  object \n",
      " 44  theft_title           120541 non-null  object \n",
      " 45  torque                197394 non-null  object \n",
      " 46  transmission          220872 non-null  object \n",
      " 47  transmission_display  220872 non-null  object \n",
      " 48  trimId                224878 non-null  object \n",
      " 49  trim_name             224834 non-null  object \n",
      " 50  wheel_system          224724 non-null  object \n",
      " 51  wheel_system_display  224724 non-null  object \n",
      " 52  wheelbase             224633 non-null  object \n",
      " 53  width                 224633 non-null  object \n",
      " 54  year                  224878 non-null  int64  \n",
      "dtypes: bool(3), float64(13), int64(4), object(35)\n",
      "memory usage: 91.6+ MB\n"
     ]
    }
   ],
   "source": [
    "cars_df.info()"
   ]
  },
  {
   "cell_type": "code",
   "execution_count": 33,
   "id": "93035f47-3d58-48c6-b9fe-04312eaf9c05",
   "metadata": {},
   "outputs": [],
   "source": [
    "#fuel type specifics can be imputed by most common engine type\n",
    "cars_df['fuel_type'] = cars_df.groupby(['year','make_name','model_name']).fuel_type.transform(lambda x : x.fillna(x.mode()))\n",
    "cars_df = cars_df.dropna(axis=0, subset=['fuel_type'])\n",
    "split2 = cars_df['fuel_tank_volume'].str.split(' ', n =1, expand = True)\n",
    "cars_df['fuel_tank_volume'] = split2[0]\n",
    "cars_df['fuel_tank_volume'] = pd.to_numeric(cars_df['fuel_tank_volume'], errors='coerce')\n",
    "cars_df = cars_df.dropna(axis=0, subset=['fuel_tank_volume'])\n",
    "cars_df['fuel_tank_volume'] = cars_df.groupby(['fuel_tank_volume']).fuel_tank_volume.transform(lambda x : x.fillna(round(x.mean(),1)))"
   ]
  },
  {
   "cell_type": "code",
   "execution_count": 34,
   "id": "e0d05807-3aa9-4414-8b51-66728b4e628a",
   "metadata": {},
   "outputs": [],
   "source": [
    "#Assume seller verified no accidents, impute nulls to false\n",
    "cars_df.has_accidents = cars_df.has_accidents.fillna(False)"
   ]
  },
  {
   "cell_type": "code",
   "execution_count": 35,
   "id": "8f1cc2f8-ea75-43b3-94c8-55ae8315d561",
   "metadata": {},
   "outputs": [],
   "source": [
    "### height of the car can be filled with the avg of the make year, make and mode\n",
    "split3 = cars_df['height'].str.split(' ', n =1, expand = True)\n",
    "cars_df['height'] = split3[0]\n",
    "cars_df['height'] = pd.to_numeric(cars_df['height'], errors='coerce')\n",
    "cars_df = cars_df.dropna(axis=0, subset=['height'])\n",
    "cars_df.height = cars_df.groupby(['year','make_name','model_name']).height.\\\n",
    "transform(lambda x : x.fillna(x.mean()))"
   ]
  },
  {
   "cell_type": "code",
   "execution_count": 36,
   "id": "69aa3127-70aa-488f-b7f1-a4bdc693018a",
   "metadata": {},
   "outputs": [
    {
     "data": {
      "text/plain": [
       "vin                          0\n",
       "back_legroom                 0\n",
       "body_type                    0\n",
       "city                         0\n",
       "city_fuel_economy            0\n",
       "daysonmarket                 0\n",
       "dealer_zip                   0\n",
       "engine_cylinders             0\n",
       "engine_displacement          0\n",
       "engine_type                  0\n",
       "exterior_color               2\n",
       "fleet                        0\n",
       "frame_damaged                0\n",
       "franchise_dealer             0\n",
       "front_legroom                0\n",
       "fuel_tank_volume             0\n",
       "fuel_type                    0\n",
       "has_accidents                0\n",
       "height                       0\n",
       "highway_fuel_economy         0\n",
       "horsepower                   0\n",
       "interior_color              11\n",
       "isCab                   104336\n",
       "is_new                       0\n",
       "latitude                     0\n",
       "length                       0\n",
       "listed_date                  0\n",
       "listing_color                0\n",
       "listing_id                   0\n",
       "longitude                    0\n",
       "main_picture_url         26319\n",
       "major_options            11408\n",
       "make_name                    0\n",
       "maximum_seating              0\n",
       "mileage                  10418\n",
       "model_name                   0\n",
       "owner_count             110540\n",
       "power                    24316\n",
       "price                        0\n",
       "salvage                 104336\n",
       "savings_amount               0\n",
       "seller_rating             3025\n",
       "sp_id                       11\n",
       "sp_name                      0\n",
       "theft_title             104336\n",
       "torque                   27424\n",
       "transmission              4000\n",
       "transmission_display      4000\n",
       "trimId                       0\n",
       "trim_name                   44\n",
       "wheel_system               154\n",
       "wheel_system_display       154\n",
       "wheelbase                    0\n",
       "width                        0\n",
       "year                         0\n",
       "dtype: int64"
      ]
     },
     "execution_count": 36,
     "metadata": {},
     "output_type": "execute_result"
    }
   ],
   "source": [
    "cars_df.isna().sum()"
   ]
  },
  {
   "cell_type": "code",
   "execution_count": 37,
   "id": "c2966f82-3e83-4c17-bd5d-e61588c56c45",
   "metadata": {},
   "outputs": [],
   "source": [
    "#isCab, main_picture_url, major_options,  not needed for this scope, drop column\n",
    "cars_df = cars_df.drop(columns=['isCab','main_picture_url','major_options'])\n"
   ]
  },
  {
   "cell_type": "code",
   "execution_count": 38,
   "id": "502a9390-ac61-4472-887d-13546c76d6c8",
   "metadata": {},
   "outputs": [],
   "source": [
    "#milage should not be imputed, plays too big of a role in the price of the car.\n",
    "cars_df = cars_df.dropna(axis=0, subset=['mileage'])"
   ]
  },
  {
   "cell_type": "code",
   "execution_count": 39,
   "id": "379219ac-6c9e-49e5-92bc-d327e7ef1268",
   "metadata": {},
   "outputs": [],
   "source": [
    "#owner count should not be imputed. the amount of owners plays a rol on car prices\n",
    "cars_df = cars_df.dropna(axis=0, subset=['owner_count'])"
   ]
  },
  {
   "cell_type": "code",
   "execution_count": 40,
   "id": "9dd049e1-04f0-44d8-9460-ed16023ba62d",
   "metadata": {},
   "outputs": [],
   "source": [
    "#power, torque,not needed for simple car prices, we wont need peak powerbands, horsepower should be enough\n",
    "cars_df = cars_df.drop(columns=['power','torque'])"
   ]
  },
  {
   "cell_type": "code",
   "execution_count": 41,
   "id": "0979178d-d163-4ee3-a49d-b6cf5abd1100",
   "metadata": {},
   "outputs": [],
   "source": [
    "#salvage/seller_rating/theft_title too important to impute drop column\n",
    "cars_df = cars_df.drop(columns=['salvage','seller_rating','theft_title'])"
   ]
  },
  {
   "cell_type": "code",
   "execution_count": 42,
   "id": "2a21a358-0240-4ab3-8680-8f9af74b40e4",
   "metadata": {},
   "outputs": [],
   "source": [
    "#sp_id is the numeric version of sp_name, drop name and drop nulls from sp_id\n",
    "cars_df = cars_df.drop(columns=['sp_name'])"
   ]
  },
  {
   "cell_type": "code",
   "execution_count": 43,
   "id": "d9c94645-2ec2-48e3-804c-9e0cb3211308",
   "metadata": {},
   "outputs": [
    {
     "data": {
      "text/plain": [
       "vin                        0\n",
       "back_legroom               0\n",
       "body_type                  0\n",
       "city                       0\n",
       "city_fuel_economy          0\n",
       "daysonmarket               0\n",
       "dealer_zip                 0\n",
       "engine_cylinders           0\n",
       "engine_displacement        0\n",
       "engine_type                0\n",
       "exterior_color             2\n",
       "fleet                      0\n",
       "frame_damaged              0\n",
       "franchise_dealer           0\n",
       "front_legroom              0\n",
       "fuel_tank_volume           0\n",
       "fuel_type                  0\n",
       "has_accidents              0\n",
       "height                     0\n",
       "highway_fuel_economy       0\n",
       "horsepower                 0\n",
       "interior_color            11\n",
       "is_new                     0\n",
       "latitude                   0\n",
       "length                     0\n",
       "listed_date                0\n",
       "listing_color              0\n",
       "listing_id                 0\n",
       "longitude                  0\n",
       "make_name                  0\n",
       "maximum_seating            0\n",
       "mileage                    0\n",
       "model_name                 0\n",
       "owner_count                0\n",
       "price                      0\n",
       "savings_amount             0\n",
       "sp_id                     11\n",
       "transmission            1561\n",
       "transmission_display    1561\n",
       "trimId                     0\n",
       "trim_name                 39\n",
       "wheel_system               6\n",
       "wheel_system_display       6\n",
       "wheelbase                  0\n",
       "width                      0\n",
       "year                       0\n",
       "dtype: int64"
      ]
     },
     "execution_count": 43,
     "metadata": {},
     "output_type": "execute_result"
    }
   ],
   "source": [
    "cars_df.isna().sum()"
   ]
  },
  {
   "cell_type": "code",
   "execution_count": 44,
   "id": "2addf245-b34d-4746-aafe-1531cc466077",
   "metadata": {},
   "outputs": [],
   "source": [
    "#remove cars with unknown transmission types"
   ]
  },
  {
   "cell_type": "code",
   "execution_count": 45,
   "id": "edd50d5b-a789-4fa8-ada2-c2774dae4d90",
   "metadata": {},
   "outputs": [],
   "source": [
    "cars_df = cars_df.dropna(axis=0, subset=['transmission'])\n",
    "cars_df = cars_df.dropna(axis=0, subset=['transmission_display'])"
   ]
  },
  {
   "cell_type": "code",
   "execution_count": 46,
   "id": "8a2aaa26-490f-4011-ad1e-593a82357d31",
   "metadata": {},
   "outputs": [],
   "source": [
    "#anything left over will be removed\n",
    "cars_df = cars_df.dropna()"
   ]
  },
  {
   "cell_type": "code",
   "execution_count": 47,
   "id": "bad0b04d-1069-4bcc-9197-5a041b1e967a",
   "metadata": {},
   "outputs": [
    {
     "data": {
      "text/plain": [
       "vin                     0\n",
       "back_legroom            0\n",
       "body_type               0\n",
       "city                    0\n",
       "city_fuel_economy       0\n",
       "daysonmarket            0\n",
       "dealer_zip              0\n",
       "engine_cylinders        0\n",
       "engine_displacement     0\n",
       "engine_type             0\n",
       "exterior_color          0\n",
       "fleet                   0\n",
       "frame_damaged           0\n",
       "franchise_dealer        0\n",
       "front_legroom           0\n",
       "fuel_tank_volume        0\n",
       "fuel_type               0\n",
       "has_accidents           0\n",
       "height                  0\n",
       "highway_fuel_economy    0\n",
       "horsepower              0\n",
       "interior_color          0\n",
       "is_new                  0\n",
       "latitude                0\n",
       "length                  0\n",
       "listed_date             0\n",
       "listing_color           0\n",
       "listing_id              0\n",
       "longitude               0\n",
       "make_name               0\n",
       "maximum_seating         0\n",
       "mileage                 0\n",
       "model_name              0\n",
       "owner_count             0\n",
       "price                   0\n",
       "savings_amount          0\n",
       "sp_id                   0\n",
       "transmission            0\n",
       "transmission_display    0\n",
       "trimId                  0\n",
       "trim_name               0\n",
       "wheel_system            0\n",
       "wheel_system_display    0\n",
       "wheelbase               0\n",
       "width                   0\n",
       "year                    0\n",
       "dtype: int64"
      ]
     },
     "execution_count": 47,
     "metadata": {},
     "output_type": "execute_result"
    }
   ],
   "source": [
    "cars_df.isna().sum()"
   ]
  },
  {
   "cell_type": "code",
   "execution_count": 48,
   "id": "3dedee59-595c-41e6-a939-23297bbdc3b5",
   "metadata": {},
   "outputs": [],
   "source": [
    "#all changes will be stored in a wrangle python script"
   ]
  },
  {
   "cell_type": "markdown",
   "id": "278e1d7e-4eb1-4ae5-8e5f-ba91864615be",
   "metadata": {},
   "source": [
    "### Datatype conversion / Removing redundant columns"
   ]
  },
  {
   "cell_type": "code",
   "execution_count": 49,
   "id": "4b96a400-b378-4768-856c-39f4d63bc1c3",
   "metadata": {},
   "outputs": [
    {
     "name": "stdout",
     "output_type": "stream",
     "text": [
      "<class 'pandas.core.frame.DataFrame'>\n",
      "Int64Index: 111674 entries, 2 to 249995\n",
      "Data columns (total 46 columns):\n",
      " #   Column                Non-Null Count   Dtype  \n",
      "---  ------                --------------   -----  \n",
      " 0   vin                   111674 non-null  object \n",
      " 1   back_legroom          111674 non-null  float64\n",
      " 2   body_type             111674 non-null  object \n",
      " 3   city                  111674 non-null  object \n",
      " 4   city_fuel_economy     111674 non-null  float64\n",
      " 5   daysonmarket          111674 non-null  int64  \n",
      " 6   dealer_zip            111674 non-null  object \n",
      " 7   engine_cylinders      111674 non-null  object \n",
      " 8   engine_displacement   111674 non-null  float64\n",
      " 9   engine_type           111674 non-null  object \n",
      " 10  exterior_color        111674 non-null  object \n",
      " 11  fleet                 111674 non-null  object \n",
      " 12  frame_damaged         111674 non-null  bool   \n",
      " 13  franchise_dealer      111674 non-null  bool   \n",
      " 14  front_legroom         111674 non-null  float64\n",
      " 15  fuel_tank_volume      111674 non-null  float64\n",
      " 16  fuel_type             111674 non-null  object \n",
      " 17  has_accidents         111674 non-null  bool   \n",
      " 18  height                111674 non-null  float64\n",
      " 19  highway_fuel_economy  111674 non-null  float64\n",
      " 20  horsepower            111674 non-null  float64\n",
      " 21  interior_color        111674 non-null  object \n",
      " 22  is_new                111674 non-null  bool   \n",
      " 23  latitude              111674 non-null  float64\n",
      " 24  length                111674 non-null  object \n",
      " 25  listed_date           111674 non-null  object \n",
      " 26  listing_color         111674 non-null  object \n",
      " 27  listing_id            111674 non-null  int64  \n",
      " 28  longitude             111674 non-null  float64\n",
      " 29  make_name             111674 non-null  object \n",
      " 30  maximum_seating       111674 non-null  object \n",
      " 31  mileage               111674 non-null  float64\n",
      " 32  model_name            111674 non-null  object \n",
      " 33  owner_count           111674 non-null  float64\n",
      " 34  price                 111674 non-null  float64\n",
      " 35  savings_amount        111674 non-null  int64  \n",
      " 36  sp_id                 111674 non-null  float64\n",
      " 37  transmission          111674 non-null  object \n",
      " 38  transmission_display  111674 non-null  object \n",
      " 39  trimId                111674 non-null  object \n",
      " 40  trim_name             111674 non-null  object \n",
      " 41  wheel_system          111674 non-null  object \n",
      " 42  wheel_system_display  111674 non-null  object \n",
      " 43  wheelbase             111674 non-null  object \n",
      " 44  width                 111674 non-null  object \n",
      " 45  year                  111674 non-null  int64  \n",
      "dtypes: bool(4), float64(14), int64(4), object(24)\n",
      "memory usage: 37.1+ MB\n"
     ]
    }
   ],
   "source": [
    "cars_df.info()"
   ]
  },
  {
   "cell_type": "code",
   "execution_count": 50,
   "id": "22e0dd08-895b-4aca-b009-5086bf27c7df",
   "metadata": {},
   "outputs": [],
   "source": [
    "#Length, Width, Wheelbase need to be split from unit of measure to become floats\n",
    "split = cars_df['width'].str.split(' ', n =1, expand = True)\n",
    "split2 = cars_df['wheelbase'].str.split(' ', n =1, expand = True)\n",
    "split3 = cars_df['length'].str.split(' ', n =1, expand = True)\n",
    "cars_df['width'] = split[0]\n",
    "cars_df['wheelbase'] = split2[0]\n",
    "cars_df['length'] = split3[0]\n",
    "cars_df['width'] = pd.to_numeric(cars_df['width'], errors='coerce')\n",
    "cars_df['wheelbase'] = pd.to_numeric(cars_df['wheelbase'], errors='coerce')\n",
    "cars_df['length'] = pd.to_numeric(cars_df['length'], errors='coerce')\n",
    "\n",
    "#engine_cylinders and engine_type are the same column, drop #engine_cylinders\n",
    "cars_df = cars_df.drop(columns='engine_cylinders')"
   ]
  },
  {
   "cell_type": "code",
   "execution_count": 51,
   "id": "0f4cf955-30b3-465f-b3a2-7ad50717f22b",
   "metadata": {},
   "outputs": [],
   "source": [
    "#we'll use the datelisted date and subtract it from  the max date of the dataframe to get the new daysonmarket\n",
    "#then remove date listed\n",
    "cars_df.listed_date = pd.to_datetime(cars_df.listed_date)\n",
    "cars_df.daysonmarket = (cars_df.listed_date.max() - cars_df.listed_date).astype(str)\n",
    "split4 = cars_df['daysonmarket'].str.split(' ', n =1, expand = True)\n",
    "cars_df['daysonmarket'] = split4[0]\n",
    "cars_df['daysonmarket'] = pd.to_numeric(cars_df['daysonmarket'], errors='coerce')\n",
    "cars_df = cars_df.drop(columns='listed_date')"
   ]
  },
  {
   "cell_type": "code",
   "execution_count": 52,
   "id": "a9688c8a-f83f-412d-8570-1bbb39f5b8dd",
   "metadata": {},
   "outputs": [],
   "source": [
    "#split zipcode to only look at the first 5 numbers, remove anything after dash\n",
    "withdash = cars_df['dealer_zip'].str.contains('-') == True\n",
    "split = cars_df[withdash]['dealer_zip'].str.split('-', n =1, expand = True)\n",
    "cars_df.loc[withdash, 'dealer_zip'] = split[0] "
   ]
  },
  {
   "cell_type": "code",
   "execution_count": 53,
   "id": "2bd75a44-17a3-4292-9b6e-df7772ff18bf",
   "metadata": {},
   "outputs": [],
   "source": [
    "#listing_id from cargurus not needed for the scope of this project remove\n",
    "cars_df = cars_df.drop(columns=['listing_id'])"
   ]
  },
  {
   "cell_type": "code",
   "execution_count": 54,
   "id": "92a17ab7-2a39-491a-9fae-d9534739af3b",
   "metadata": {},
   "outputs": [],
   "source": [
    "#trim_id and trim_name represent the same thing, for modeling purposes we'll use trimid and remove trim_name\n",
    "split6 = cars_df['trimId'].str.split('t', n =1, expand = True)\n",
    "cars_df['trimId'] = split6[1]\n",
    "cars_df['trimId'] = pd.to_numeric(cars_df['trimId'], errors='coerce')\n",
    "cars_df = cars_df.drop(columns='trim_name')"
   ]
  },
  {
   "cell_type": "code",
   "execution_count": 55,
   "id": "1e04b1c7-1dd4-45d8-b31a-815e4d348ecf",
   "metadata": {},
   "outputs": [],
   "source": [
    "#wheel system and wheel system display are the same, we'll remove wheel system display\n",
    "cars_df = cars_df.drop(columns='wheel_system_display')"
   ]
  },
  {
   "cell_type": "code",
   "execution_count": 56,
   "id": "fb03003f-1fbf-44ea-bdf4-20a744821cf4",
   "metadata": {},
   "outputs": [],
   "source": [
    "#transmission and transmission display are vitually the same thing, \n",
    "#display is broken down more so we'll use that one and drop transmission\n",
    "cars_df = cars_df.drop(columns='transmission')"
   ]
  },
  {
   "cell_type": "code",
   "execution_count": 57,
   "id": "fe26e316-d1f2-4abd-af98-069dc3230572",
   "metadata": {},
   "outputs": [],
   "source": [
    "#maximum seating is the number of seats in the car, we'll split the space and take the number \n",
    "split7 = cars_df['maximum_seating'].str.split(' ', n =1, expand = True)\n",
    "cars_df['maximum_seating'] = split7[0]\n",
    "cars_df['maximum_seating'] = pd.to_numeric(cars_df['maximum_seating'], errors='coerce')"
   ]
  },
  {
   "cell_type": "markdown",
   "id": "76a496e3-0db8-4737-9632-120a2c168218",
   "metadata": {},
   "source": [
    "### Encoding"
   ]
  },
  {
   "cell_type": "markdown",
   "id": "af830518-1b14-438a-a673-d5607fdfdde1",
   "metadata": {},
   "source": [
    "here we will encode the variables to numeric ones for Modeling\n",
    "- The remaining objects and bools will be encoded to integers for modeling purposes"
   ]
  },
  {
   "cell_type": "code",
   "execution_count": 58,
   "id": "80c13228-2d7f-4bf1-9f4d-896b9c27b710",
   "metadata": {},
   "outputs": [],
   "source": [
    "object_list = cars_df.drop(columns = ['vin'])"
   ]
  },
  {
   "cell_type": "code",
   "execution_count": 59,
   "id": "d4874226-6812-4f58-84c2-b9d9c804f3a1",
   "metadata": {},
   "outputs": [],
   "source": [
    "object_list = object_list.columns.where(object_list.dtypes == 'object').dropna().to_list()"
   ]
  },
  {
   "cell_type": "code",
   "execution_count": 60,
   "id": "ee1f6bf1-5a61-47c0-9d4f-ffa07b05e027",
   "metadata": {},
   "outputs": [],
   "source": [
    "for i in object_list:\n",
    "    list_ = (cars_df[i].value_counts().index.to_list())"
   ]
  }
 ],
 "metadata": {
  "kernelspec": {
   "display_name": "Python 3",
   "language": "python",
   "name": "python3"
  },
  "language_info": {
   "codemirror_mode": {
    "name": "ipython",
    "version": 3
   },
   "file_extension": ".py",
   "mimetype": "text/x-python",
   "name": "python",
   "nbconvert_exporter": "python",
   "pygments_lexer": "ipython3",
   "version": "3.8.10"
  }
 },
 "nbformat": 4,
 "nbformat_minor": 5
}
