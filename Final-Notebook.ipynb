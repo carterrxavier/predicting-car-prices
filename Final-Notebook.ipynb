{
 "cells": [
  {
   "cell_type": "markdown",
   "id": "a738bb94-2357-408e-a3b1-ed3d5aa773d6",
   "metadata": {},
   "source": [
    "# Predicting Car Prices "
   ]
  },
  {
   "cell_type": "code",
   "execution_count": 1,
   "id": "6664f2ae-bf3b-4412-8453-c854bfe5b920",
   "metadata": {},
   "outputs": [],
   "source": [
    "import numpy as np\n",
    "import pandas as pd\n",
    "\n",
    "from PythonScripts import wrangle , explore, scale, evaluate\n",
    "\n",
    "import warnings\n",
    "warnings.filterwarnings('ignore')"
   ]
  },
  {
   "cell_type": "markdown",
   "id": "f8b15205-0d5b-45d4-aa64-3126fc0b496d",
   "metadata": {},
   "source": [
    "Executive "
   ]
  },
  {
   "cell_type": "markdown",
   "id": "ee73f857-eb26-4291-a8d2-edf50e3c0e34",
   "metadata": {},
   "source": [
    "## Wrangle"
   ]
  },
  {
   "cell_type": "code",
   "execution_count": 2,
   "id": "a240d951-e824-4726-a502-6c16547f8d37",
   "metadata": {},
   "outputs": [
    {
     "data": {
      "text/plain": [
       "(200000, 66)"
      ]
     },
     "execution_count": 2,
     "metadata": {},
     "output_type": "execute_result"
    }
   ],
   "source": [
    "#This database has 3 million observations\n",
    "#we'll use 200,000 due to ram limitations\n",
    "cars_df = wrangle.get_car_data(200000)\n",
    "cars_df.shape"
   ]
  },
  {
   "cell_type": "code",
   "execution_count": 3,
   "id": "fd7983ac-34a8-4100-b378-782d858f94e3",
   "metadata": {},
   "outputs": [
    {
     "name": "stdout",
     "output_type": "stream",
     "text": [
      "<class 'pandas.core.series.Series'>\n"
     ]
    },
    {
     "data": {
      "text/plain": [
       "(87517, 41)"
      ]
     },
     "execution_count": 3,
     "metadata": {},
     "output_type": "execute_result"
    }
   ],
   "source": [
    "cars_df = wrangle.clean_car_data(cars_df)\n",
    "cars_df.shape"
   ]
  },
  {
   "cell_type": "markdown",
   "id": "c8706942-6ef7-4ca2-937c-d46262f1ee58",
   "metadata": {},
   "source": [
    "### Encode / Split / Scale\n",
    "Here I will encode all categorical objects into numbers for the regression model"
   ]
  },
  {
   "cell_type": "code",
   "execution_count": null,
   "id": "c6e20d38-8ffe-4045-9e6b-aa9cbee62f76",
   "metadata": {},
   "outputs": [],
   "source": [
    "encoded_cars = wrangle.encode_cars(cars_df)"
   ]
  },
  {
   "cell_type": "code",
   "execution_count": null,
   "id": "5c75e952-56af-4006-849f-0864fd4dde9c",
   "metadata": {},
   "outputs": [],
   "source": [
    "train, validate, test = wrangle.split_for_model(encoded_cars)"
   ]
  },
  {
   "cell_type": "code",
   "execution_count": null,
   "id": "77cbe805-6d29-4b6e-b2ba-927eda160205",
   "metadata": {},
   "outputs": [],
   "source": [
    "train_scaled, validate_scaled, test_scaled = scale.scale_data(train, validate, test, scale_type='Robust', to_scale=['back_legroom','city_fuel_economy', 'daysonmarket', 'engine_displacement', 'front_legroom','fuel_tank_volume', 'height', 'highway_fuel_economy', 'horsepower', 'length', 'mileage','wheelbase', 'width'])"
   ]
  },
  {
   "cell_type": "markdown",
   "id": "7cb90f2d-a64f-4b9d-bc22-bfacc0c1964c",
   "metadata": {},
   "source": [
    "### Exploration"
   ]
  },
  {
   "cell_type": "code",
   "execution_count": null,
   "id": "76053edb-753b-4be8-9fd5-315ea83bd03f",
   "metadata": {},
   "outputs": [],
   "source": [
    "explore.get_distribution(train_scaled.drop(columns=['vin','city','dealer_zip']))"
   ]
  },
  {
   "cell_type": "markdown",
   "id": "d735ae7c-c80f-4719-ba28-f82ec42a0a25",
   "metadata": {},
   "source": [
    "### Target = Price"
   ]
  },
  {
   "cell_type": "code",
   "execution_count": null,
   "id": "5fca411b-808d-443c-834d-05e6dc015ee8",
   "metadata": {},
   "outputs": [],
   "source": [
    "explore.graph_to_target(train_scaled.sample(2500).drop(columns=['vin','city','dealer_zip']),'price')"
   ]
  },
  {
   "cell_type": "code",
   "execution_count": null,
   "id": "92fdd315-3271-4850-8caa-24ce89c3a802",
   "metadata": {},
   "outputs": [],
   "source": [
    "explore.get_heatmap(train_scaled, 'price')"
   ]
  },
  {
   "cell_type": "markdown",
   "id": "43513103-605a-4c9e-89fa-cf57020dcc45",
   "metadata": {},
   "source": [
    "### Takeaways\n",
    "- mostly right tailed, as theres more cars that are least expensive the luxury cars\n",
    "- Year is left tailed, as this data is scraped from car gurus , majority of the cars listed upon scraping are new listed vehicles for sale\n",
    "- Based on research, we want to use year, make and model of the car,trim level and milage on the user end in order to get the other factors that are needed for helping predict the car price. The minimum the user should know is the year make and model if the user knows the trim level then that gives us an idea on other useful information that can be used in our model and mileage (such as engine type, or horsepower)"
   ]
  },
  {
   "cell_type": "markdown",
   "id": "fca81aad-ba17-4291-be13-061e6fb8286e",
   "metadata": {},
   "source": [
    "### Statistical testing\n",
    "Lets make sure Year, Make, and Model hold correlation to price, then we'll look at what rfe to see what else plays a role in predicting car prices. many of our variables are not normally distributed, so we'll use pearsons r correlation "
   ]
  },
  {
   "cell_type": "code",
   "execution_count": null,
   "id": "2e136a9f-f27f-418e-827c-c7965fe72424",
   "metadata": {},
   "outputs": [],
   "source": [
    "cont_var = ['year', 'mileage']\n",
    "cat_var = ['make_name_num', 'model_name_num']\n",
    "evaluate.get_t_test(cat_var, train_scaled, 'price', 0.05)\n",
    "evaluate.get_pearsons(cont_var,'price',0.05,train_scaled)"
   ]
  },
  {
   "cell_type": "markdown",
   "id": "310b2874-1f2f-4f05-9171-0774fcab1d33",
   "metadata": {},
   "source": [
    "### Feature Elimination\n",
    "- What feautures does k-best and rfe select as the best drivers"
   ]
  },
  {
   "cell_type": "code",
   "execution_count": null,
   "id": "970e978e-9c28-4c1b-ab16-eed73796d9b4",
   "metadata": {},
   "outputs": [],
   "source": [
    "X_train = train_scaled.drop(columns=['vin','price']).select_dtypes(exclude='object')\n",
    "y_train = train.price\n",
    "\n",
    "X_validate = validate_scaled.drop(columns=['vin','price']).select_dtypes(exclude='object')\n",
    "y_validate = validate_scaled.price\n",
    "\n",
    "X_test = test_scaled.drop(columns=['vin','price']).select_dtypes(exclude='object')\n",
    "y_test = test_scaled.price"
   ]
  },
  {
   "cell_type": "code",
   "execution_count": null,
   "id": "1ffd6cb6-5bd0-4865-9e76-5e514076eb05",
   "metadata": {},
   "outputs": [],
   "source": [
    "kbest = evaluate.select_kbest(X_train, y_train, 10)"
   ]
  },
  {
   "cell_type": "code",
   "execution_count": null,
   "id": "c9f9c7ff-070e-4ea0-a83f-a11496686696",
   "metadata": {},
   "outputs": [],
   "source": [
    "kbest"
   ]
  },
  {
   "cell_type": "code",
   "execution_count": null,
   "id": "74e686ea-0dbe-4979-883d-11b003ecc110",
   "metadata": {},
   "outputs": [],
   "source": [
    "rfe = evaluate.select_rfe(X_train, y_train, 10)"
   ]
  },
  {
   "cell_type": "code",
   "execution_count": null,
   "id": "e0b1b50b-2aa7-4592-ba39-af1967c0ae57",
   "metadata": {},
   "outputs": [],
   "source": [
    "rfe"
   ]
  },
  {
   "cell_type": "markdown",
   "id": "edb88451-a585-4f74-a0cf-14e33ddd6fbe",
   "metadata": {},
   "source": [
    "##### We will use the Year, Make , Model, Mileage, Trimid as input from the user, then after having this information , grabbing the avg horsepower and avg city fuel economy , and most occuring wheel system for said car based off information in the dataset.\n"
   ]
  },
  {
   "cell_type": "code",
   "execution_count": null,
   "id": "18702ab3-2e00-4b12-a2af-38db8ecaf89f",
   "metadata": {},
   "outputs": [],
   "source": [
    "my_list = ['year', 'make_name_num', 'model_name_num', 'mileage', 'trimId', 'horsepower','engine_displacement']"
   ]
  },
  {
   "cell_type": "markdown",
   "id": "cf09328f-d408-4369-94c9-f693098ab20a",
   "metadata": {},
   "source": [
    "# Modeling"
   ]
  },
  {
   "cell_type": "markdown",
   "id": "923b32bb-7421-47e5-acd8-e131a10e8c5c",
   "metadata": {},
   "source": [
    "### Baseline"
   ]
  },
  {
   "cell_type": "code",
   "execution_count": null,
   "id": "4617a957-675e-4eac-87a9-ad26422375cd",
   "metadata": {},
   "outputs": [],
   "source": [
    "target = 'price'"
   ]
  },
  {
   "cell_type": "code",
   "execution_count": null,
   "id": "9a055cc4-987b-4001-974f-7700465556df",
   "metadata": {},
   "outputs": [],
   "source": [
    "baseline = evaluate.baseline_errors(y_train)[2]"
   ]
  },
  {
   "cell_type": "code",
   "execution_count": null,
   "id": "a133cbd7-24c9-434d-b690-c11240ded367",
   "metadata": {},
   "outputs": [],
   "source": [
    "baseline"
   ]
  },
  {
   "cell_type": "markdown",
   "id": "083d1c2a-5a39-4d36-8f9d-b28d59526378",
   "metadata": {},
   "source": [
    "### OLS "
   ]
  },
  {
   "cell_type": "code",
   "execution_count": null,
   "id": "5af4a22a-a1e2-4801-bd34-f42299baec83",
   "metadata": {},
   "outputs": [],
   "source": [
    "ols_train = evaluate.get_model_results(X_train[my_list], y_train, X_train[my_list], y_train, target, normalize=True)  "
   ]
  },
  {
   "cell_type": "code",
   "execution_count": null,
   "id": "1bdfb0e7-8431-400b-8a92-25efa3a6e687",
   "metadata": {},
   "outputs": [],
   "source": [
    "ols_validate = evaluate.get_model_results(X_train[my_list], y_train, X_validate[my_list], y_validate, target, normalize=True)   "
   ]
  },
  {
   "cell_type": "markdown",
   "id": "512bd5ca-c868-4cca-b08e-487680303dd9",
   "metadata": {},
   "source": [
    "### Lasso Lars "
   ]
  },
  {
   "cell_type": "code",
   "execution_count": null,
   "id": "0b7ea5d7-9d3d-46af-aad1-c5f6386f49fd",
   "metadata": {},
   "outputs": [],
   "source": [
    "lasso_train = evaluate.get_model_results(X_train[my_list], y_train, X_train[my_list], y_train, target,model='lasso', alpha= .01 )  "
   ]
  },
  {
   "cell_type": "code",
   "execution_count": null,
   "id": "00b4f7aa-333b-474a-924a-ec38917d8104",
   "metadata": {},
   "outputs": [],
   "source": [
    "lasso_validate = evaluate.get_model_results(X_train[my_list], y_train, X_validate[my_list], y_validate, target,model='lasso', alpha= .01 )  "
   ]
  },
  {
   "cell_type": "markdown",
   "id": "10800da0-0a5a-40dc-bd84-4a2094123f07",
   "metadata": {},
   "source": [
    "### Tweedie Regressor (GLM)"
   ]
  },
  {
   "cell_type": "code",
   "execution_count": null,
   "id": "b2be6fa3-f0f7-4d28-8be6-02e1571e5f97",
   "metadata": {},
   "outputs": [],
   "source": [
    "glm_train  = evaluate.get_model_results(X_train[my_list], y_train, X_train[my_list], y_train, target,model='glm', power = 1)  "
   ]
  },
  {
   "cell_type": "code",
   "execution_count": null,
   "id": "3acd7786-3ddb-479a-9ea9-112383dfd54a",
   "metadata": {},
   "outputs": [],
   "source": [
    "glm_validate = evaluate.get_model_results(X_train[my_list], y_train, X_validate[my_list], y_validate, target,model='glm', power = 1)  "
   ]
  },
  {
   "cell_type": "markdown",
   "id": "8c2ba79c-36e3-4ae8-ad99-a450d5deb004",
   "metadata": {},
   "source": [
    "### Polynomial Regression"
   ]
  },
  {
   "cell_type": "code",
   "execution_count": null,
   "id": "b2e4d119-07ca-4d35-8e15-abdd3605deeb",
   "metadata": {},
   "outputs": [],
   "source": [
    "poly_train = evaluate.get_model_results(X_train[my_list], y_train, X_train[my_list], y_train, target,model='poly', degree = 3)"
   ]
  },
  {
   "cell_type": "code",
   "execution_count": null,
   "id": "d6feac25-2159-4132-84bc-20a2e5933e06",
   "metadata": {},
   "outputs": [],
   "source": [
    "poly_validate = evaluate.get_model_results(X_train[my_list], y_train, X_validate[my_list], y_validate, target,model='poly', degree = 3)"
   ]
  },
  {
   "cell_type": "markdown",
   "id": "a283a485-a40c-4416-b368-f0841316ff1a",
   "metadata": {},
   "source": [
    "#### Test on 3rd degree polynomial\n"
   ]
  },
  {
   "cell_type": "code",
   "execution_count": null,
   "id": "d157f7f8-deb6-4f40-851a-e0ed2e1c0376",
   "metadata": {},
   "outputs": [],
   "source": [
    "poly_test = evaluate.get_model_results(X_train, y_train, X_test, y_test, target,model='poly', degree = 3)"
   ]
  },
  {
   "cell_type": "markdown",
   "id": "ad62918c-01e2-4408-adfd-5b25da2f4a38",
   "metadata": {},
   "source": [
    "# Exploration of error\n",
    "- further exploration may suggest that the data should be split into more than 1 model, as the current model is struggling to predict Super Luxury cars with accuracy, being weighted down by the vast amount of data from the regular car market"
   ]
  },
  {
   "cell_type": "code",
   "execution_count": null,
   "id": "748633f1-85eb-4596-8aa8-a615ed98576b",
   "metadata": {},
   "outputs": [],
   "source": [
    "test_scaled['predictions'] = np.round(poly_test[0],2)"
   ]
  },
  {
   "cell_type": "code",
   "execution_count": null,
   "id": "3b0b108c-6cda-4f21-86ab-39cae02161cf",
   "metadata": {},
   "outputs": [],
   "source": [
    "test_scaled['Diff'] = abs(test_scaled.price - test_scaled.predictions)"
   ]
  },
  {
   "cell_type": "code",
   "execution_count": null,
   "id": "6620fb53-b281-4d98-b5b2-a0a838ca3495",
   "metadata": {},
   "outputs": [],
   "source": [
    "extreme_error_cases = test_scaled[(test_scaled['Diff'] >= 5000)]"
   ]
  },
  {
   "cell_type": "code",
   "execution_count": null,
   "id": "02df4156-fd29-42e6-ac0b-35e593639418",
   "metadata": {},
   "outputs": [],
   "source": [
    "extreme_error_cases= extreme_error_cases[['vin', 'horsepower', 'mileage','price', 'predictions', 'Diff']]"
   ]
  },
  {
   "cell_type": "code",
   "execution_count": null,
   "id": "a4212a96-1e63-4697-96be-c8882400ee44",
   "metadata": {},
   "outputs": [],
   "source": [
    "extreme_error_cases.sort_values(by=\"Diff\")"
   ]
  },
  {
   "cell_type": "markdown",
   "id": "d2a651b7-dbcd-4669-a6d5-3a7ef75ce55b",
   "metadata": {},
   "source": [
    "# Conclusion\n",
    "- As you can see above the super cars are being valued either extremely low or extremely high suggesting that these cars should be seperated into their own market. \n",
    "- It also has trouble valuing classic (collectible) cars. cars that are older, but still hold value. because cars dont always depreciate over time.\n",
    "- model might rely too much on horsepower as an idicator of price.\n",
    "- We will revisit and split the data into premium and regular markets in order to improve accuracy. \n",
    "- we will also revisit classic  car handling."
   ]
  },
  {
   "cell_type": "code",
   "execution_count": null,
   "id": "102d7276-fcdc-4621-85c7-b0554b53b7e2",
   "metadata": {},
   "outputs": [],
   "source": []
  }
 ],
 "metadata": {
  "kernelspec": {
   "display_name": "Python 3",
   "language": "python",
   "name": "python3"
  },
  "language_info": {
   "codemirror_mode": {
    "name": "ipython",
    "version": 3
   },
   "file_extension": ".py",
   "mimetype": "text/x-python",
   "name": "python",
   "nbconvert_exporter": "python",
   "pygments_lexer": "ipython3",
   "version": "3.8.10"
  }
 },
 "nbformat": 4,
 "nbformat_minor": 5
}
